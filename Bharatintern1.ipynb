{
  "nbformat": 4,
  "nbformat_minor": 0,
  "metadata": {
    "colab": {
      "provenance": []
    },
    "kernelspec": {
      "name": "python3",
      "display_name": "Python 3"
    },
    "language_info": {
      "name": "python"
    }
  },
  "cells": [
    {
      "cell_type": "code",
      "execution_count": null,
      "metadata": {
        "id": "-DWWNonCKUFY"
      },
      "outputs": [],
      "source": [
        "import pandas as pd\n",
        "from sklearn.linear_model import LinearRegression\n",
        "from sklearn.model_selection import train_test_split\n",
        "from sklearn.metrics import mean_squared_error, r2_score"
      ]
    },
    {
      "cell_type": "code",
      "source": [
        "# Load the dataset from a CSV file\n",
        "df = pd.read_csv('housing_price_dataset.csv')"
      ],
      "metadata": {
        "id": "Bz9Ts1NnKZPV"
      },
      "execution_count": null,
      "outputs": []
    },
    {
      "cell_type": "code",
      "source": [
        "# Split the data into input and output variables\n",
        "X = df[['Avg. Area Income', 'Avg. Area House Age', 'Avg. Area Number of Rooms', 'Avg. Area Number of Bedrooms', 'Area Population']]\n",
        "y = df['Price']\n",
        "\n",
        "# Handle missing values\n",
        "X.fillna(X.mean(), inplace=True)\n",
        "y.fillna(y.mean(), inplace=True)\n",
        "\n",
        "# Split the data into training and testing sets\n",
        "X_train, X_test, y_train, y_test = train_test_split(X, y, test_size=0.25, random_state=42)"
      ],
      "metadata": {
        "id": "j4kQ6FOWKcUr"
      },
      "execution_count": null,
      "outputs": []
    },
    {
      "cell_type": "code",
      "source": [
        "# Create a linear regression object\n",
        "model = LinearRegression()\n",
        "\n",
        "# Fit the model to the training data\n",
        "model.fit(X_train, y_train)"
      ],
      "metadata": {
        "id": "dD-y-huUKenZ"
      },
      "execution_count": null,
      "outputs": []
    },
    {
      "cell_type": "code",
      "source": [
        "# Make predictions on the test data\n",
        "y_pred = model.predict(X_test)\n",
        "\n",
        "# Calculate the mean squared error and r-squared score\n",
        "mse = mean_squared_error(y_test, y_pred)\n",
        "r2 = r2_score(y_test, y_pred)\n",
        "\n",
        "# Print the model evaluation metrics\n",
        "print('Mean squared error:', mse)\n",
        "print('R-squared score:', r2)"
      ],
      "metadata": {
        "id": "w3iC0KiqKgjP"
      },
      "execution_count": null,
      "outputs": []
    },
    {
      "cell_type": "code",
      "source": [
        "# To make predictions on new data, simply pass the input features to the trained model\n",
        "new_data = {'Avg. Area Income': 60000, 'Avg. Area House Age': 10, 'Avg. Area Number of Rooms': 4, 'Avg. Area Number of Bedrooms': 3, 'Area Population': 10000}\n",
        "\n",
        "# Make a prediction on the new data\n",
        "prediction = model.predict([new_data])\n",
        "\n",
        "# Print the prediction\n",
        "print('Predicted house price:', prediction[0])"
      ],
      "metadata": {
        "id": "WuUWNrYzKjNq"
      },
      "execution_count": null,
      "outputs": []
    }
  ]
}